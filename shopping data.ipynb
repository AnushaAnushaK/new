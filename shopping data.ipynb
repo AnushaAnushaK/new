{
 "cells": [
  {
   "cell_type": "code",
   "execution_count": 1,
   "id": "11abbe4d",
   "metadata": {},
   "outputs": [
    {
     "data": {
      "text/plain": [
       "'C:\\\\Users\\\\anuka'"
      ]
     },
     "execution_count": 1,
     "metadata": {},
     "output_type": "execute_result"
    }
   ],
   "source": [
    "import matplotlib.pyplot as plt\n",
    "%matplotlib inline\n",
    "import warnings\n",
    "warnings.filterwarnings('ignore')\n",
    "import os\n",
    "os.getcwd()"
   ]
  },
  {
   "cell_type": "code",
   "execution_count": 2,
   "id": "fac368f1",
   "metadata": {},
   "outputs": [
    {
     "data": {
      "application/javascript": [
       "\n",
       "        if (window._pyforest_update_imports_cell) { window._pyforest_update_imports_cell('import pandas as pd'); }\n",
       "    "
      ],
      "text/plain": [
       "<IPython.core.display.Javascript object>"
      ]
     },
     "metadata": {},
     "output_type": "display_data"
    }
   ],
   "source": [
    "df = pd.read_csv(r\"C:\\Users\\anuka\\Desktop\\shopping_mall.csv\", d"
   ]
  },
  {
   "cell_type": "code",
   "execution_count": 3,
   "id": "d2eb31bb",
   "metadata": {},
   "outputs": [
    {
     "data": {
      "text/html": [
       "<div>\n",
       "<style scoped>\n",
       "    .dataframe tbody tr th:only-of-type {\n",
       "        vertical-align: middle;\n",
       "    }\n",
       "\n",
       "    .dataframe tbody tr th {\n",
       "        vertical-align: top;\n",
       "    }\n",
       "\n",
       "    .dataframe thead th {\n",
       "        text-align: right;\n",
       "    }\n",
       "</style>\n",
       "<table border=\"1\" class=\"dataframe\">\n",
       "  <thead>\n",
       "    <tr style=\"text-align: right;\">\n",
       "      <th></th>\n",
       "      <th>Quantity</th>\n",
       "      <th>UnitPrice</th>\n",
       "      <th>CustomerID</th>\n",
       "    </tr>\n",
       "  </thead>\n",
       "  <tbody>\n",
       "    <tr>\n",
       "      <th>count</th>\n",
       "      <td>75120.000000</td>\n",
       "      <td>75120.00000</td>\n",
       "      <td>48212.000000</td>\n",
       "    </tr>\n",
       "    <tr>\n",
       "      <th>mean</th>\n",
       "      <td>9.043384</td>\n",
       "      <td>5.25234</td>\n",
       "      <td>15257.869327</td>\n",
       "    </tr>\n",
       "    <tr>\n",
       "      <th>std</th>\n",
       "      <td>387.339709</td>\n",
       "      <td>116.75314</td>\n",
       "      <td>1765.475916</td>\n",
       "    </tr>\n",
       "    <tr>\n",
       "      <th>min</th>\n",
       "      <td>-74215.000000</td>\n",
       "      <td>0.00000</td>\n",
       "      <td>12346.000000</td>\n",
       "    </tr>\n",
       "    <tr>\n",
       "      <th>25%</th>\n",
       "      <td>1.000000</td>\n",
       "      <td>1.25000</td>\n",
       "      <td>13767.000000</td>\n",
       "    </tr>\n",
       "    <tr>\n",
       "      <th>50%</th>\n",
       "      <td>3.000000</td>\n",
       "      <td>2.46000</td>\n",
       "      <td>15078.000000</td>\n",
       "    </tr>\n",
       "    <tr>\n",
       "      <th>75%</th>\n",
       "      <td>9.000000</td>\n",
       "      <td>4.24000</td>\n",
       "      <td>16916.000000</td>\n",
       "    </tr>\n",
       "    <tr>\n",
       "      <th>max</th>\n",
       "      <td>74215.000000</td>\n",
       "      <td>16888.02000</td>\n",
       "      <td>18283.000000</td>\n",
       "    </tr>\n",
       "  </tbody>\n",
       "</table>\n",
       "</div>"
      ],
      "text/plain": [
       "           Quantity    UnitPrice    CustomerID\n",
       "count  75120.000000  75120.00000  48212.000000\n",
       "mean       9.043384      5.25234  15257.869327\n",
       "std      387.339709    116.75314   1765.475916\n",
       "min   -74215.000000      0.00000  12346.000000\n",
       "25%        1.000000      1.25000  13767.000000\n",
       "50%        3.000000      2.46000  15078.000000\n",
       "75%        9.000000      4.24000  16916.000000\n",
       "max    74215.000000  16888.02000  18283.000000"
      ]
     },
     "execution_count": 3,
     "metadata": {},
     "output_type": "execute_result"
    }
   ],
   "source": [
    "df.describe()"
   ]
  },
  {
   "cell_type": "code",
   "execution_count": 4,
   "id": "c945f2c1",
   "metadata": {},
   "outputs": [
    {
     "name": "stdout",
     "output_type": "stream",
     "text": [
      "<class 'pandas.core.frame.DataFrame'>\n",
      "RangeIndex: 75120 entries, 0 to 75119\n",
      "Data columns (total 8 columns):\n",
      " #   Column       Non-Null Count  Dtype  \n",
      "---  ------       --------------  -----  \n",
      " 0   InvoiceNo    75120 non-null  object \n",
      " 1   StockCode    75120 non-null  object \n",
      " 2   Description  74915 non-null  object \n",
      " 3   Quantity     75120 non-null  int64  \n",
      " 4   InvoiceDate  75120 non-null  object \n",
      " 5   UnitPrice    75120 non-null  float64\n",
      " 6   CustomerID   48212 non-null  float64\n",
      " 7   Country      75120 non-null  object \n",
      "dtypes: float64(2), int64(1), object(5)\n",
      "memory usage: 4.6+ MB\n"
     ]
    }
   ],
   "source": [
    "df.info()"
   ]
  },
  {
   "cell_type": "code",
   "execution_count": 5,
   "id": "2a494b5d",
   "metadata": {},
   "outputs": [
    {
     "data": {
      "text/plain": [
       "InvoiceNo          0\n",
       "StockCode          0\n",
       "Description      205\n",
       "Quantity           0\n",
       "InvoiceDate        0\n",
       "UnitPrice          0\n",
       "CustomerID     26908\n",
       "Country            0\n",
       "dtype: int64"
      ]
     },
     "execution_count": 5,
     "metadata": {},
     "output_type": "execute_result"
    }
   ],
   "source": [
    "df.isnull().sum()"
   ]
  },
  {
   "cell_type": "code",
   "execution_count": 6,
   "id": "b6d4af43",
   "metadata": {},
   "outputs": [],
   "source": [
    "df1 = df.dropna(axis=0)"
   ]
  },
  {
   "cell_type": "code",
   "execution_count": 7,
   "id": "cfcff672",
   "metadata": {},
   "outputs": [
    {
     "data": {
      "text/plain": [
       "InvoiceNo      0\n",
       "StockCode      0\n",
       "Description    0\n",
       "Quantity       0\n",
       "InvoiceDate    0\n",
       "UnitPrice      0\n",
       "CustomerID     0\n",
       "Country        0\n",
       "dtype: int64"
      ]
     },
     "execution_count": 7,
     "metadata": {},
     "output_type": "execute_result"
    }
   ],
   "source": [
    "df1.isnull().sum()"
   ]
  },
  {
   "cell_type": "code",
   "execution_count": 8,
   "id": "263fbd1a",
   "metadata": {},
   "outputs": [],
   "source": [
    "df1 = df1.drop([\"StockCode\", \"Description\", \"Country\"], axis = 1)"
   ]
  },
  {
   "cell_type": "code",
   "execution_count": 9,
   "id": "b77ca123",
   "metadata": {},
   "outputs": [],
   "source": [
    "df1['expenditure']= df.apply(lambda row: row.Quantity * row.UnitPrice, axis = 1)"
   ]
  },
  {
   "cell_type": "code",
   "execution_count": 10,
   "id": "56e9ba52",
   "metadata": {},
   "outputs": [
    {
     "data": {
      "text/html": [
       "<div>\n",
       "<style scoped>\n",
       "    .dataframe tbody tr th:only-of-type {\n",
       "        vertical-align: middle;\n",
       "    }\n",
       "\n",
       "    .dataframe tbody tr th {\n",
       "        vertical-align: top;\n",
       "    }\n",
       "\n",
       "    .dataframe thead th {\n",
       "        text-align: right;\n",
       "    }\n",
       "</style>\n",
       "<table border=\"1\" class=\"dataframe\">\n",
       "  <thead>\n",
       "    <tr style=\"text-align: right;\">\n",
       "      <th></th>\n",
       "      <th>InvoiceNo</th>\n",
       "      <th>Quantity</th>\n",
       "      <th>InvoiceDate</th>\n",
       "      <th>UnitPrice</th>\n",
       "      <th>CustomerID</th>\n",
       "      <th>expenditure</th>\n",
       "    </tr>\n",
       "  </thead>\n",
       "  <tbody>\n",
       "    <tr>\n",
       "      <th>0</th>\n",
       "      <td>536627</td>\n",
       "      <td>1</td>\n",
       "      <td>12/2/2010 10:53</td>\n",
       "      <td>19.95</td>\n",
       "      <td>15658.0</td>\n",
       "      <td>19.95</td>\n",
       "    </tr>\n",
       "    <tr>\n",
       "      <th>1</th>\n",
       "      <td>536627</td>\n",
       "      <td>2</td>\n",
       "      <td>12/2/2010 10:53</td>\n",
       "      <td>8.50</td>\n",
       "      <td>15658.0</td>\n",
       "      <td>17.00</td>\n",
       "    </tr>\n",
       "    <tr>\n",
       "      <th>2</th>\n",
       "      <td>536627</td>\n",
       "      <td>3</td>\n",
       "      <td>12/2/2010 10:53</td>\n",
       "      <td>5.95</td>\n",
       "      <td>15658.0</td>\n",
       "      <td>17.85</td>\n",
       "    </tr>\n",
       "    <tr>\n",
       "      <th>3</th>\n",
       "      <td>536627</td>\n",
       "      <td>12</td>\n",
       "      <td>12/2/2010 10:53</td>\n",
       "      <td>1.45</td>\n",
       "      <td>15658.0</td>\n",
       "      <td>17.40</td>\n",
       "    </tr>\n",
       "    <tr>\n",
       "      <th>4</th>\n",
       "      <td>536627</td>\n",
       "      <td>4</td>\n",
       "      <td>12/2/2010 10:53</td>\n",
       "      <td>12.75</td>\n",
       "      <td>15658.0</td>\n",
       "      <td>51.00</td>\n",
       "    </tr>\n",
       "    <tr>\n",
       "      <th>...</th>\n",
       "      <td>...</td>\n",
       "      <td>...</td>\n",
       "      <td>...</td>\n",
       "      <td>...</td>\n",
       "      <td>...</td>\n",
       "      <td>...</td>\n",
       "    </tr>\n",
       "    <tr>\n",
       "      <th>75115</th>\n",
       "      <td>556023</td>\n",
       "      <td>1</td>\n",
       "      <td>6/8/2011 12:21</td>\n",
       "      <td>4.95</td>\n",
       "      <td>14527.0</td>\n",
       "      <td>4.95</td>\n",
       "    </tr>\n",
       "    <tr>\n",
       "      <th>75116</th>\n",
       "      <td>556023</td>\n",
       "      <td>4</td>\n",
       "      <td>6/8/2011 12:21</td>\n",
       "      <td>0.83</td>\n",
       "      <td>14527.0</td>\n",
       "      <td>3.32</td>\n",
       "    </tr>\n",
       "    <tr>\n",
       "      <th>75117</th>\n",
       "      <td>556023</td>\n",
       "      <td>4</td>\n",
       "      <td>6/8/2011 12:21</td>\n",
       "      <td>0.55</td>\n",
       "      <td>14527.0</td>\n",
       "      <td>2.20</td>\n",
       "    </tr>\n",
       "    <tr>\n",
       "      <th>75118</th>\n",
       "      <td>556023</td>\n",
       "      <td>4</td>\n",
       "      <td>6/8/2011 12:21</td>\n",
       "      <td>1.65</td>\n",
       "      <td>14527.0</td>\n",
       "      <td>6.60</td>\n",
       "    </tr>\n",
       "    <tr>\n",
       "      <th>75119</th>\n",
       "      <td>556023</td>\n",
       "      <td>2</td>\n",
       "      <td>6/8/2011 12:21</td>\n",
       "      <td>5.95</td>\n",
       "      <td>14527.0</td>\n",
       "      <td>11.90</td>\n",
       "    </tr>\n",
       "  </tbody>\n",
       "</table>\n",
       "<p>48212 rows × 6 columns</p>\n",
       "</div>"
      ],
      "text/plain": [
       "      InvoiceNo  Quantity      InvoiceDate  UnitPrice  CustomerID  expenditure\n",
       "0        536627         1  12/2/2010 10:53      19.95     15658.0        19.95\n",
       "1        536627         2  12/2/2010 10:53       8.50     15658.0        17.00\n",
       "2        536627         3  12/2/2010 10:53       5.95     15658.0        17.85\n",
       "3        536627        12  12/2/2010 10:53       1.45     15658.0        17.40\n",
       "4        536627         4  12/2/2010 10:53      12.75     15658.0        51.00\n",
       "...         ...       ...              ...        ...         ...          ...\n",
       "75115    556023         1   6/8/2011 12:21       4.95     14527.0         4.95\n",
       "75116    556023         4   6/8/2011 12:21       0.83     14527.0         3.32\n",
       "75117    556023         4   6/8/2011 12:21       0.55     14527.0         2.20\n",
       "75118    556023         4   6/8/2011 12:21       1.65     14527.0         6.60\n",
       "75119    556023         2   6/8/2011 12:21       5.95     14527.0        11.90\n",
       "\n",
       "[48212 rows x 6 columns]"
      ]
     },
     "execution_count": 10,
     "metadata": {},
     "output_type": "execute_result"
    }
   ],
   "source": [
    "df1"
   ]
  },
  {
   "cell_type": "code",
   "execution_count": null,
   "id": "7e8a5f59",
   "metadata": {},
   "outputs": [],
   "source": []
  }
 ],
 "metadata": {
  "kernelspec": {
   "display_name": "Python 3 (ipykernel)",
   "language": "python",
   "name": "python3"
  },
  "language_info": {
   "codemirror_mode": {
    "name": "ipython",
    "version": 3
   },
   "file_extension": ".py",
   "mimetype": "text/x-python",
   "name": "python",
   "nbconvert_exporter": "python",
   "pygments_lexer": "ipython3",
   "version": "3.9.7"
  }
 },
 "nbformat": 4,
 "nbformat_minor": 5
}
