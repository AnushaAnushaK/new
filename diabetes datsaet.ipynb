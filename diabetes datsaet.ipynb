{
 "cells": [
  {
   "cell_type": "code",
   "execution_count": 9,
   "id": "b4303da5",
   "metadata": {},
   "outputs": [],
   "source": [
    "import numpy as np\n",
    "import pandas as pd\n",
    "import seaborn as sns\n",
    "import matplotlib.pyplot as plt\n",
    "import sklearn\n",
    "import csv"
   ]
  },
  {
   "cell_type": "code",
   "execution_count": 11,
   "id": "8dde6099",
   "metadata": {},
   "outputs": [],
   "source": [
    "diabetes_data = pd.read_csv(r\"C:\\Users\\anuka\\Downloads\\train.csv\")"
   ]
  },
  {
   "cell_type": "code",
   "execution_count": 12,
   "id": "ad108fd8",
   "metadata": {},
   "outputs": [
    {
     "data": {
      "text/html": [
       "<div>\n",
       "<style scoped>\n",
       "    .dataframe tbody tr th:only-of-type {\n",
       "        vertical-align: middle;\n",
       "    }\n",
       "\n",
       "    .dataframe tbody tr th {\n",
       "        vertical-align: top;\n",
       "    }\n",
       "\n",
       "    .dataframe thead th {\n",
       "        text-align: right;\n",
       "    }\n",
       "</style>\n",
       "<table border=\"1\" class=\"dataframe\">\n",
       "  <thead>\n",
       "    <tr style=\"text-align: right;\">\n",
       "      <th></th>\n",
       "      <th>p_id</th>\n",
       "      <th>no_times_pregnant</th>\n",
       "      <th>glucose_concentration</th>\n",
       "      <th>blood_pressure</th>\n",
       "      <th>skin_fold_thickness</th>\n",
       "      <th>serum_insulin</th>\n",
       "      <th>bmi</th>\n",
       "      <th>diabetes pedigree</th>\n",
       "      <th>age</th>\n",
       "      <th>diabetes</th>\n",
       "    </tr>\n",
       "  </thead>\n",
       "  <tbody>\n",
       "    <tr>\n",
       "      <th>0</th>\n",
       "      <td>316</td>\n",
       "      <td>2</td>\n",
       "      <td>112</td>\n",
       "      <td>68</td>\n",
       "      <td>22</td>\n",
       "      <td>94</td>\n",
       "      <td>34.1</td>\n",
       "      <td>0.315</td>\n",
       "      <td>26</td>\n",
       "      <td>0</td>\n",
       "    </tr>\n",
       "    <tr>\n",
       "      <th>1</th>\n",
       "      <td>25</td>\n",
       "      <td>11</td>\n",
       "      <td>143</td>\n",
       "      <td>94</td>\n",
       "      <td>33</td>\n",
       "      <td>146</td>\n",
       "      <td>36.6</td>\n",
       "      <td>0.254</td>\n",
       "      <td>51</td>\n",
       "      <td>1</td>\n",
       "    </tr>\n",
       "    <tr>\n",
       "      <th>2</th>\n",
       "      <td>710</td>\n",
       "      <td>2</td>\n",
       "      <td>93</td>\n",
       "      <td>64</td>\n",
       "      <td>32</td>\n",
       "      <td>160</td>\n",
       "      <td>38.0</td>\n",
       "      <td>0.674</td>\n",
       "      <td>23</td>\n",
       "      <td>1</td>\n",
       "    </tr>\n",
       "    <tr>\n",
       "      <th>3</th>\n",
       "      <td>658</td>\n",
       "      <td>1</td>\n",
       "      <td>120</td>\n",
       "      <td>80</td>\n",
       "      <td>48</td>\n",
       "      <td>200</td>\n",
       "      <td>38.9</td>\n",
       "      <td>1.162</td>\n",
       "      <td>41</td>\n",
       "      <td>0</td>\n",
       "    </tr>\n",
       "    <tr>\n",
       "      <th>4</th>\n",
       "      <td>542</td>\n",
       "      <td>3</td>\n",
       "      <td>128</td>\n",
       "      <td>72</td>\n",
       "      <td>25</td>\n",
       "      <td>190</td>\n",
       "      <td>32.4</td>\n",
       "      <td>0.549</td>\n",
       "      <td>27</td>\n",
       "      <td>1</td>\n",
       "    </tr>\n",
       "    <tr>\n",
       "      <th>...</th>\n",
       "      <td>...</td>\n",
       "      <td>...</td>\n",
       "      <td>...</td>\n",
       "      <td>...</td>\n",
       "      <td>...</td>\n",
       "      <td>...</td>\n",
       "      <td>...</td>\n",
       "      <td>...</td>\n",
       "      <td>...</td>\n",
       "      <td>...</td>\n",
       "    </tr>\n",
       "    <tr>\n",
       "      <th>609</th>\n",
       "      <td>14</td>\n",
       "      <td>1</td>\n",
       "      <td>189</td>\n",
       "      <td>60</td>\n",
       "      <td>23</td>\n",
       "      <td>846</td>\n",
       "      <td>30.1</td>\n",
       "      <td>0.398</td>\n",
       "      <td>59</td>\n",
       "      <td>1</td>\n",
       "    </tr>\n",
       "    <tr>\n",
       "      <th>610</th>\n",
       "      <td>555</td>\n",
       "      <td>1</td>\n",
       "      <td>84</td>\n",
       "      <td>64</td>\n",
       "      <td>23</td>\n",
       "      <td>115</td>\n",
       "      <td>36.9</td>\n",
       "      <td>0.471</td>\n",
       "      <td>28</td>\n",
       "      <td>0</td>\n",
       "    </tr>\n",
       "    <tr>\n",
       "      <th>611</th>\n",
       "      <td>730</td>\n",
       "      <td>2</td>\n",
       "      <td>92</td>\n",
       "      <td>52</td>\n",
       "      <td>0</td>\n",
       "      <td>0</td>\n",
       "      <td>30.1</td>\n",
       "      <td>0.141</td>\n",
       "      <td>22</td>\n",
       "      <td>0</td>\n",
       "    </tr>\n",
       "    <tr>\n",
       "      <th>612</th>\n",
       "      <td>103</td>\n",
       "      <td>0</td>\n",
       "      <td>125</td>\n",
       "      <td>96</td>\n",
       "      <td>0</td>\n",
       "      <td>0</td>\n",
       "      <td>22.5</td>\n",
       "      <td>0.262</td>\n",
       "      <td>21</td>\n",
       "      <td>0</td>\n",
       "    </tr>\n",
       "    <tr>\n",
       "      <th>613</th>\n",
       "      <td>603</td>\n",
       "      <td>1</td>\n",
       "      <td>124</td>\n",
       "      <td>74</td>\n",
       "      <td>36</td>\n",
       "      <td>0</td>\n",
       "      <td>27.8</td>\n",
       "      <td>0.100</td>\n",
       "      <td>30</td>\n",
       "      <td>0</td>\n",
       "    </tr>\n",
       "  </tbody>\n",
       "</table>\n",
       "<p>614 rows × 10 columns</p>\n",
       "</div>"
      ],
      "text/plain": [
       "     p_id  no_times_pregnant  glucose_concentration  blood_pressure  \\\n",
       "0     316                  2                    112              68   \n",
       "1      25                 11                    143              94   \n",
       "2     710                  2                     93              64   \n",
       "3     658                  1                    120              80   \n",
       "4     542                  3                    128              72   \n",
       "..    ...                ...                    ...             ...   \n",
       "609    14                  1                    189              60   \n",
       "610   555                  1                     84              64   \n",
       "611   730                  2                     92              52   \n",
       "612   103                  0                    125              96   \n",
       "613   603                  1                    124              74   \n",
       "\n",
       "     skin_fold_thickness  serum_insulin   bmi  diabetes pedigree  age  \\\n",
       "0                     22             94  34.1              0.315   26   \n",
       "1                     33            146  36.6              0.254   51   \n",
       "2                     32            160  38.0              0.674   23   \n",
       "3                     48            200  38.9              1.162   41   \n",
       "4                     25            190  32.4              0.549   27   \n",
       "..                   ...            ...   ...                ...  ...   \n",
       "609                   23            846  30.1              0.398   59   \n",
       "610                   23            115  36.9              0.471   28   \n",
       "611                    0              0  30.1              0.141   22   \n",
       "612                    0              0  22.5              0.262   21   \n",
       "613                   36              0  27.8              0.100   30   \n",
       "\n",
       "     diabetes  \n",
       "0           0  \n",
       "1           1  \n",
       "2           1  \n",
       "3           0  \n",
       "4           1  \n",
       "..        ...  \n",
       "609         1  \n",
       "610         0  \n",
       "611         0  \n",
       "612         0  \n",
       "613         0  \n",
       "\n",
       "[614 rows x 10 columns]"
      ]
     },
     "execution_count": 12,
     "metadata": {},
     "output_type": "execute_result"
    }
   ],
   "source": [
    "diabetes_data"
   ]
  },
  {
   "cell_type": "code",
   "execution_count": 13,
   "id": "8d7cd4fa",
   "metadata": {},
   "outputs": [
    {
     "data": {
      "text/html": [
       "<div>\n",
       "<style scoped>\n",
       "    .dataframe tbody tr th:only-of-type {\n",
       "        vertical-align: middle;\n",
       "    }\n",
       "\n",
       "    .dataframe tbody tr th {\n",
       "        vertical-align: top;\n",
       "    }\n",
       "\n",
       "    .dataframe thead th {\n",
       "        text-align: right;\n",
       "    }\n",
       "</style>\n",
       "<table border=\"1\" class=\"dataframe\">\n",
       "  <thead>\n",
       "    <tr style=\"text-align: right;\">\n",
       "      <th></th>\n",
       "      <th>p_id</th>\n",
       "      <th>no_times_pregnant</th>\n",
       "      <th>glucose_concentration</th>\n",
       "      <th>blood_pressure</th>\n",
       "      <th>skin_fold_thickness</th>\n",
       "      <th>serum_insulin</th>\n",
       "      <th>bmi</th>\n",
       "      <th>diabetes pedigree</th>\n",
       "      <th>age</th>\n",
       "      <th>diabetes</th>\n",
       "    </tr>\n",
       "  </thead>\n",
       "  <tbody>\n",
       "    <tr>\n",
       "      <th>0</th>\n",
       "      <td>316</td>\n",
       "      <td>2</td>\n",
       "      <td>112</td>\n",
       "      <td>68</td>\n",
       "      <td>22</td>\n",
       "      <td>94</td>\n",
       "      <td>34.1</td>\n",
       "      <td>0.315</td>\n",
       "      <td>26</td>\n",
       "      <td>0</td>\n",
       "    </tr>\n",
       "    <tr>\n",
       "      <th>1</th>\n",
       "      <td>25</td>\n",
       "      <td>11</td>\n",
       "      <td>143</td>\n",
       "      <td>94</td>\n",
       "      <td>33</td>\n",
       "      <td>146</td>\n",
       "      <td>36.6</td>\n",
       "      <td>0.254</td>\n",
       "      <td>51</td>\n",
       "      <td>1</td>\n",
       "    </tr>\n",
       "    <tr>\n",
       "      <th>2</th>\n",
       "      <td>710</td>\n",
       "      <td>2</td>\n",
       "      <td>93</td>\n",
       "      <td>64</td>\n",
       "      <td>32</td>\n",
       "      <td>160</td>\n",
       "      <td>38.0</td>\n",
       "      <td>0.674</td>\n",
       "      <td>23</td>\n",
       "      <td>1</td>\n",
       "    </tr>\n",
       "    <tr>\n",
       "      <th>3</th>\n",
       "      <td>658</td>\n",
       "      <td>1</td>\n",
       "      <td>120</td>\n",
       "      <td>80</td>\n",
       "      <td>48</td>\n",
       "      <td>200</td>\n",
       "      <td>38.9</td>\n",
       "      <td>1.162</td>\n",
       "      <td>41</td>\n",
       "      <td>0</td>\n",
       "    </tr>\n",
       "    <tr>\n",
       "      <th>4</th>\n",
       "      <td>542</td>\n",
       "      <td>3</td>\n",
       "      <td>128</td>\n",
       "      <td>72</td>\n",
       "      <td>25</td>\n",
       "      <td>190</td>\n",
       "      <td>32.4</td>\n",
       "      <td>0.549</td>\n",
       "      <td>27</td>\n",
       "      <td>1</td>\n",
       "    </tr>\n",
       "  </tbody>\n",
       "</table>\n",
       "</div>"
      ],
      "text/plain": [
       "   p_id  no_times_pregnant  glucose_concentration  blood_pressure  \\\n",
       "0   316                  2                    112              68   \n",
       "1    25                 11                    143              94   \n",
       "2   710                  2                     93              64   \n",
       "3   658                  1                    120              80   \n",
       "4   542                  3                    128              72   \n",
       "\n",
       "   skin_fold_thickness  serum_insulin   bmi  diabetes pedigree  age  diabetes  \n",
       "0                   22             94  34.1              0.315   26         0  \n",
       "1                   33            146  36.6              0.254   51         1  \n",
       "2                   32            160  38.0              0.674   23         1  \n",
       "3                   48            200  38.9              1.162   41         0  \n",
       "4                   25            190  32.4              0.549   27         1  "
      ]
     },
     "execution_count": 13,
     "metadata": {},
     "output_type": "execute_result"
    }
   ],
   "source": [
    "diabetes_data.head()"
   ]
  },
  {
   "cell_type": "code",
   "execution_count": 14,
   "id": "198c3e7b",
   "metadata": {},
   "outputs": [
    {
     "data": {
      "text/html": [
       "<div>\n",
       "<style scoped>\n",
       "    .dataframe tbody tr th:only-of-type {\n",
       "        vertical-align: middle;\n",
       "    }\n",
       "\n",
       "    .dataframe tbody tr th {\n",
       "        vertical-align: top;\n",
       "    }\n",
       "\n",
       "    .dataframe thead th {\n",
       "        text-align: right;\n",
       "    }\n",
       "</style>\n",
       "<table border=\"1\" class=\"dataframe\">\n",
       "  <thead>\n",
       "    <tr style=\"text-align: right;\">\n",
       "      <th></th>\n",
       "      <th>p_id</th>\n",
       "      <th>no_times_pregnant</th>\n",
       "      <th>glucose_concentration</th>\n",
       "      <th>blood_pressure</th>\n",
       "      <th>skin_fold_thickness</th>\n",
       "      <th>serum_insulin</th>\n",
       "      <th>bmi</th>\n",
       "      <th>diabetes pedigree</th>\n",
       "      <th>age</th>\n",
       "      <th>diabetes</th>\n",
       "    </tr>\n",
       "  </thead>\n",
       "  <tbody>\n",
       "    <tr>\n",
       "      <th>count</th>\n",
       "      <td>614.000000</td>\n",
       "      <td>614.000000</td>\n",
       "      <td>614.000000</td>\n",
       "      <td>614.000000</td>\n",
       "      <td>614.000000</td>\n",
       "      <td>614.000000</td>\n",
       "      <td>614.000000</td>\n",
       "      <td>614.000000</td>\n",
       "      <td>614.000000</td>\n",
       "      <td>614.000000</td>\n",
       "    </tr>\n",
       "    <tr>\n",
       "      <th>mean</th>\n",
       "      <td>385.773616</td>\n",
       "      <td>3.853420</td>\n",
       "      <td>120.542345</td>\n",
       "      <td>68.765472</td>\n",
       "      <td>20.244300</td>\n",
       "      <td>79.355049</td>\n",
       "      <td>31.909935</td>\n",
       "      <td>0.466342</td>\n",
       "      <td>33.325733</td>\n",
       "      <td>0.348534</td>\n",
       "    </tr>\n",
       "    <tr>\n",
       "      <th>std</th>\n",
       "      <td>223.603024</td>\n",
       "      <td>3.358126</td>\n",
       "      <td>31.252286</td>\n",
       "      <td>19.914836</td>\n",
       "      <td>15.886083</td>\n",
       "      <td>117.709950</td>\n",
       "      <td>8.007699</td>\n",
       "      <td>0.331090</td>\n",
       "      <td>11.929569</td>\n",
       "      <td>0.476895</td>\n",
       "    </tr>\n",
       "    <tr>\n",
       "      <th>min</th>\n",
       "      <td>1.000000</td>\n",
       "      <td>0.000000</td>\n",
       "      <td>0.000000</td>\n",
       "      <td>0.000000</td>\n",
       "      <td>0.000000</td>\n",
       "      <td>0.000000</td>\n",
       "      <td>0.000000</td>\n",
       "      <td>0.078000</td>\n",
       "      <td>21.000000</td>\n",
       "      <td>0.000000</td>\n",
       "    </tr>\n",
       "    <tr>\n",
       "      <th>25%</th>\n",
       "      <td>191.250000</td>\n",
       "      <td>1.000000</td>\n",
       "      <td>99.000000</td>\n",
       "      <td>62.000000</td>\n",
       "      <td>0.000000</td>\n",
       "      <td>0.000000</td>\n",
       "      <td>27.300000</td>\n",
       "      <td>0.240250</td>\n",
       "      <td>24.000000</td>\n",
       "      <td>0.000000</td>\n",
       "    </tr>\n",
       "    <tr>\n",
       "      <th>50%</th>\n",
       "      <td>387.000000</td>\n",
       "      <td>3.000000</td>\n",
       "      <td>117.000000</td>\n",
       "      <td>72.000000</td>\n",
       "      <td>23.000000</td>\n",
       "      <td>17.000000</td>\n",
       "      <td>32.000000</td>\n",
       "      <td>0.361000</td>\n",
       "      <td>29.000000</td>\n",
       "      <td>0.000000</td>\n",
       "    </tr>\n",
       "    <tr>\n",
       "      <th>75%</th>\n",
       "      <td>572.750000</td>\n",
       "      <td>6.000000</td>\n",
       "      <td>139.000000</td>\n",
       "      <td>80.000000</td>\n",
       "      <td>32.000000</td>\n",
       "      <td>126.000000</td>\n",
       "      <td>36.600000</td>\n",
       "      <td>0.613500</td>\n",
       "      <td>41.000000</td>\n",
       "      <td>1.000000</td>\n",
       "    </tr>\n",
       "    <tr>\n",
       "      <th>max</th>\n",
       "      <td>768.000000</td>\n",
       "      <td>17.000000</td>\n",
       "      <td>197.000000</td>\n",
       "      <td>114.000000</td>\n",
       "      <td>63.000000</td>\n",
       "      <td>846.000000</td>\n",
       "      <td>59.400000</td>\n",
       "      <td>2.420000</td>\n",
       "      <td>81.000000</td>\n",
       "      <td>1.000000</td>\n",
       "    </tr>\n",
       "  </tbody>\n",
       "</table>\n",
       "</div>"
      ],
      "text/plain": [
       "             p_id  no_times_pregnant  glucose_concentration  blood_pressure  \\\n",
       "count  614.000000         614.000000             614.000000      614.000000   \n",
       "mean   385.773616           3.853420             120.542345       68.765472   \n",
       "std    223.603024           3.358126              31.252286       19.914836   \n",
       "min      1.000000           0.000000               0.000000        0.000000   \n",
       "25%    191.250000           1.000000              99.000000       62.000000   \n",
       "50%    387.000000           3.000000             117.000000       72.000000   \n",
       "75%    572.750000           6.000000             139.000000       80.000000   \n",
       "max    768.000000          17.000000             197.000000      114.000000   \n",
       "\n",
       "       skin_fold_thickness  serum_insulin         bmi  diabetes pedigree  \\\n",
       "count           614.000000     614.000000  614.000000         614.000000   \n",
       "mean             20.244300      79.355049   31.909935           0.466342   \n",
       "std              15.886083     117.709950    8.007699           0.331090   \n",
       "min               0.000000       0.000000    0.000000           0.078000   \n",
       "25%               0.000000       0.000000   27.300000           0.240250   \n",
       "50%              23.000000      17.000000   32.000000           0.361000   \n",
       "75%              32.000000     126.000000   36.600000           0.613500   \n",
       "max              63.000000     846.000000   59.400000           2.420000   \n",
       "\n",
       "              age    diabetes  \n",
       "count  614.000000  614.000000  \n",
       "mean    33.325733    0.348534  \n",
       "std     11.929569    0.476895  \n",
       "min     21.000000    0.000000  \n",
       "25%     24.000000    0.000000  \n",
       "50%     29.000000    0.000000  \n",
       "75%     41.000000    1.000000  \n",
       "max     81.000000    1.000000  "
      ]
     },
     "execution_count": 14,
     "metadata": {},
     "output_type": "execute_result"
    }
   ],
   "source": [
    "diabetes_data.describe()"
   ]
  },
  {
   "cell_type": "code",
   "execution_count": 16,
   "id": "31703891",
   "metadata": {},
   "outputs": [
    {
     "name": "stderr",
     "output_type": "stream",
     "text": [
      "C:\\Users\\anuka\\anaconda3\\lib\\site-packages\\seaborn\\_decorators.py:36: FutureWarning: Pass the following variable as a keyword arg: x. From version 0.12, the only valid positional argument will be `data`, and passing other arguments without an explicit keyword will result in an error or misinterpretation.\n",
      "  warnings.warn(\n"
     ]
    },
    {
     "data": {
      "text/plain": [
       "<AxesSubplot:xlabel='bmi'>"
      ]
     },
     "execution_count": 16,
     "metadata": {},
     "output_type": "execute_result"
    },
    {
     "data": {
      "image/png": "[encoded data removed]",
      "text/plain": [
       "<Figure size 432x288 with 1 Axes>"
      ]
     },
     "metadata": {
      "needs_background": "light"
     },
     "output_type": "display_data"
    }
   ],
   "source": [
    "sns.boxplot(diabetes_data['bmi'])"
   ]
  },
  {
   "cell_type": "code",
   "execution_count": 17,
   "id": "b89359d3",
   "metadata": {},
   "outputs": [],
   "source": [
    "skewness = diabetes_data.skew()"
   ]
  },
  {
   "cell_type": "code",
   "execution_count": 18,
   "id": "7d4bad31",
   "metadata": {},
   "outputs": [
    {
     "data": {
      "text/plain": [
       "p_id                    -0.001023\n",
       "no_times_pregnant        0.906273\n",
       "glucose_concentration    0.120295\n",
       "blood_pressure          -1.877868\n",
       "skin_fold_thickness      0.014201\n",
       "serum_insulin            2.394700\n",
       "bmi                     -0.539151\n",
       "diabetes pedigree        1.978319\n",
       "age                      1.143901\n",
       "diabetes                 0.637293\n",
       "dtype: float64"
      ]
     },
     "execution_count": 18,
     "metadata": {},
     "output_type": "execute_result"
    }
   ],
   "source": [
    "skewness"
   ]
  },
  {
   "cell_type": "code",
   "execution_count": 19,
   "id": "89e79b97",
   "metadata": {},
   "outputs": [
    {
     "name": "stdout",
     "output_type": "stream",
     "text": [
      "p_id                    -1.198872\n",
      "no_times_pregnant        0.202474\n",
      "glucose_concentration    0.751013\n",
      "blood_pressure           4.841515\n",
      "skin_fold_thickness     -1.170041\n",
      "serum_insulin            7.943071\n",
      "bmi                      3.079566\n",
      "diabetes pedigree        5.944349\n",
      "age                      0.676608\n",
      "diabetes                -1.599077\n",
      "dtype: float64\n"
     ]
    }
   ],
   "source": [
    "kurtosis = diabetes_data.kurtosis()\n",
    "print(kurtosis)"
   ]
  },
  {
   "cell_type": "code",
   "execution_count": 20,
   "id": "4b745699",
   "metadata": {},
   "outputs": [],
   "source": [
    "from scipy.stats import shapiro"
   ]
  },
  {
   "cell_type": "code",
   "execution_count": 21,
   "id": "ffc3317a",
   "metadata": {},
   "outputs": [
    {
     "data": {
      "text/plain": [
       "ShapiroResult(statistic=0.9472587704658508, pvalue=5.57543140616238e-14)"
      ]
     },
     "execution_count": 21,
     "metadata": {},
     "output_type": "execute_result"
    }
   ],
   "source": [
    "shapiro(diabetes_data['bmi'])"
   ]
  },
  {
   "cell_type": "code",
   "execution_count": 26,
   "id": "a65d3440",
   "metadata": {},
   "outputs": [
    {
     "ename": "AttributeError",
     "evalue": "module 'pandas' has no attribute 'load_csv'",
     "output_type": "error",
     "traceback": [
      "\u001b[1;31m---------------------------------------------------------------------------\u001b[0m",
      "\u001b[1;31mAttributeError\u001b[0m                            Traceback (most recent call last)",
      "\u001b[1;32m~\\AppData\\Local\\Temp/ipykernel_3016/3586403970.py\u001b[0m in \u001b[0;36m<module>\u001b[1;34m\u001b[0m\n\u001b[1;32m----> 1\u001b[1;33m \u001b[0mdiabetes_data\u001b[0m \u001b[1;33m=\u001b[0m \u001b[0mpd\u001b[0m\u001b[1;33m.\u001b[0m\u001b[0mload_csv\u001b[0m\u001b[1;33m(\u001b[0m\u001b[1;34mr\"C:\\Users\\anuka\\Downloads\\train.csv\"\u001b[0m\u001b[1;33m)\u001b[0m\u001b[1;33m\u001b[0m\u001b[1;33m\u001b[0m\u001b[0m\n\u001b[0m",
      "\u001b[1;32m~\\anaconda3\\lib\\site-packages\\pandas\\__init__.py\u001b[0m in \u001b[0;36m__getattr__\u001b[1;34m(name)\u001b[0m\n\u001b[0;32m    242\u001b[0m         \u001b[1;32mreturn\u001b[0m \u001b[0m_SparseArray\u001b[0m\u001b[1;33m\u001b[0m\u001b[1;33m\u001b[0m\u001b[0m\n\u001b[0;32m    243\u001b[0m \u001b[1;33m\u001b[0m\u001b[0m\n\u001b[1;32m--> 244\u001b[1;33m     \u001b[1;32mraise\u001b[0m \u001b[0mAttributeError\u001b[0m\u001b[1;33m(\u001b[0m\u001b[1;34mf\"module 'pandas' has no attribute '{name}'\"\u001b[0m\u001b[1;33m)\u001b[0m\u001b[1;33m\u001b[0m\u001b[1;33m\u001b[0m\u001b[0m\n\u001b[0m\u001b[0;32m    245\u001b[0m \u001b[1;33m\u001b[0m\u001b[0m\n\u001b[0;32m    246\u001b[0m \u001b[1;33m\u001b[0m\u001b[0m\n",
      "\u001b[1;31mAttributeError\u001b[0m: module 'pandas' has no attribute 'load_csv'"
     ]
    }
   ],
   "source": []
  },
  {
   "cell_type": "code",
   "execution_count": 39,
   "id": "5ad18ccf",
   "metadata": {},
   "outputs": [],
   "source": [
    "x = diabetes_data.age"
   ]
  },
  {
   "cell_type": "code",
   "execution_count": 40,
   "id": "08f71366",
   "metadata": {},
   "outputs": [
    {
     "data": {
      "text/plain": [
       "0      26\n",
       "1      51\n",
       "2      23\n",
       "3      41\n",
       "4      27\n",
       "       ..\n",
       "609    59\n",
       "610    28\n",
       "611    22\n",
       "612    21\n",
       "613    30\n",
       "Name: age, Length: 614, dtype: int64"
      ]
     },
     "execution_count": 40,
     "metadata": {},
     "output_type": "execute_result"
    }
   ],
   "source": [
    "x"
   ]
  },
  {
   "cell_type": "code",
   "execution_count": 41,
   "id": "57c9af62",
   "metadata": {},
   "outputs": [],
   "source": [
    "y = diabetes_data.diabetes"
   ]
  },
  {
   "cell_type": "code",
   "execution_count": 42,
   "id": "e18cf4db",
   "metadata": {},
   "outputs": [
    {
     "data": {
      "text/plain": [
       "0      0\n",
       "1      1\n",
       "2      1\n",
       "3      0\n",
       "4      1\n",
       "      ..\n",
       "609    1\n",
       "610    0\n",
       "611    0\n",
       "612    0\n",
       "613    0\n",
       "Name: diabetes, Length: 614, dtype: int64"
      ]
     },
     "execution_count": 42,
     "metadata": {},
     "output_type": "execute_result"
    }
   ],
   "source": [
    "y"
   ]
  },
  {
   "cell_type": "code",
   "execution_count": 43,
   "id": "026fea03",
   "metadata": {},
   "outputs": [],
   "source": [
    "from  sklearn.model_selection import train_test_split\n"
   ]
  },
  {
   "cell_type": "code",
   "execution_count": 44,
   "id": "d6e1926b",
   "metadata": {},
   "outputs": [],
   "source": [
    "x_train, x_test, y_train, y_test = train_test_split(x,y, test_size=1/3)"
   ]
  },
  {
   "cell_type": "code",
   "execution_count": 45,
   "id": "3745e274",
   "metadata": {},
   "outputs": [
    {
     "data": {
      "text/plain": [
       "(409,)"
      ]
     },
     "execution_count": 45,
     "metadata": {},
     "output_type": "execute_result"
    }
   ],
   "source": [
    "x_train.shape"
   ]
  },
  {
   "cell_type": "code",
   "execution_count": 46,
   "id": "04144caa",
   "metadata": {},
   "outputs": [
    {
     "data": {
      "text/plain": [
       "(205,)"
      ]
     },
     "execution_count": 46,
     "metadata": {},
     "output_type": "execute_result"
    }
   ],
   "source": [
    "x_test.shape"
   ]
  },
  {
   "cell_type": "code",
   "execution_count": 47,
   "id": "0c6f0df6",
   "metadata": {},
   "outputs": [
    {
     "ename": "ValueError",
     "evalue": "Expected 2D array, got 1D array instead:\narray=[23. 26. 24. 49. 26. 38. 26. 31. 62. 23. 29. 24. 25. 54. 44. 51. 32. 32.\n 31. 21. 45. 21. 28. 24. 63. 27. 60. 22. 24. 57. 49. 43. 35. 45. 23. 41.\n 66. 41. 38. 23. 22. 23. 45. 36. 28. 21. 25. 25. 36. 43. 21. 23. 23. 48.\n 33. 45. 26. 24. 34. 24. 47. 29. 27. 53. 27. 41. 51. 25. 31. 45. 26. 33.\n 23. 29. 31. 24. 24. 31. 35. 38. 50. 24. 31. 24. 22. 29. 23. 37. 41. 21.\n 47. 22. 67. 21. 53. 26. 22. 29. 36. 21. 45. 22. 31. 31. 40. 26. 25. 27.\n 66. 55. 22. 36. 29. 22. 24. 50. 22. 36. 41. 45. 47. 27. 45. 22. 49. 45.\n 23. 67. 38. 22. 32. 30. 22. 27. 21. 22. 25. 39. 31. 32. 26. 56. 26. 41.\n 52. 22. 38. 29. 25. 25. 25. 24. 28. 22. 24. 45. 23. 63. 22. 26. 22. 29.\n 22. 23. 25. 36. 26. 70. 39. 27. 25. 25. 25. 29. 26. 27. 21. 33. 30. 38.\n 21. 44. 26. 81. 21. 42. 27. 32. 45. 25. 66. 35. 51. 23. 21. 21. 30. 22.\n 42. 41. 22. 30. 47. 41. 31. 21. 45. 37. 27. 24. 44. 42. 24. 24. 30. 24.\n 65. 22. 42. 22. 41. 62. 26. 22. 60. 31. 37. 32. 40. 43. 37. 27. 37. 43.\n 21. 22. 23. 28. 59. 23. 22. 46. 40. 21. 28. 34. 67. 39. 56. 24. 32. 44.\n 42. 27. 25. 23. 26. 24. 29. 37. 24. 26. 33. 23. 52. 55. 31. 29. 52. 33.\n 22. 25. 22. 50. 28. 28. 52. 28. 54. 32. 37. 30. 23. 27. 35. 22. 58. 21.\n 24. 55. 22. 28. 24. 39. 40. 41. 21. 21. 30. 58. 25. 30. 40. 28. 22. 23.\n 21. 31. 54. 45. 29. 26. 58. 27. 33. 24. 33. 21. 21. 46. 23. 25. 44. 33.\n 41. 39. 29. 26. 53. 21. 22. 33. 38. 31. 33. 33. 31. 30. 25. 25. 64. 27.\n 40. 23. 40. 36. 36. 25. 60. 22. 41. 43. 22. 29. 45. 32. 26. 37. 28. 43.\n 43. 43. 30. 34. 21. 53. 28. 25. 46. 39. 30. 25. 40. 54. 21. 46. 21. 45.\n 21. 42. 27. 33. 52. 23. 58. 42. 52. 48. 24. 27. 43. 27. 50. 22. 37. 37.\n 59. 28. 22. 26. 36. 23. 25. 37. 31. 46. 31. 42. 34.].\nReshape your data either using array.reshape(-1, 1) if your data has a single feature or array.reshape(1, -1) if it contains a single sample.",
     "output_type": "error",
     "traceback": [
      "\u001b[1;31m---------------------------------------------------------------------------\u001b[0m",
      "\u001b[1;31mValueError\u001b[0m                                Traceback (most recent call last)",
      "\u001b[1;32m~\\AppData\\Local\\Temp/ipykernel_3016/1627896011.py\u001b[0m in \u001b[0;36m<module>\u001b[1;34m\u001b[0m\n\u001b[0;32m      2\u001b[0m \u001b[1;33m\u001b[0m\u001b[0m\n\u001b[0;32m      3\u001b[0m \u001b[0mlr\u001b[0m \u001b[1;33m=\u001b[0m \u001b[0mLogisticRegression\u001b[0m\u001b[1;33m(\u001b[0m\u001b[0mmax_iter\u001b[0m\u001b[1;33m=\u001b[0m\u001b[1;36m200\u001b[0m\u001b[1;33m)\u001b[0m\u001b[1;33m\u001b[0m\u001b[1;33m\u001b[0m\u001b[0m\n\u001b[1;32m----> 4\u001b[1;33m \u001b[0mlr\u001b[0m\u001b[1;33m.\u001b[0m\u001b[0mfit\u001b[0m\u001b[1;33m(\u001b[0m\u001b[0mx_train\u001b[0m\u001b[1;33m,\u001b[0m \u001b[0my_train\u001b[0m\u001b[1;33m)\u001b[0m\u001b[1;33m\u001b[0m\u001b[1;33m\u001b[0m\u001b[0m\n\u001b[0m",
      "\u001b[1;32m~\\anaconda3\\lib\\site-packages\\sklearn\\linear_model\\_logistic.py\u001b[0m in \u001b[0;36mfit\u001b[1;34m(self, X, y, sample_weight)\u001b[0m\n\u001b[0;32m   1136\u001b[0m             \u001b[0m_dtype\u001b[0m \u001b[1;33m=\u001b[0m \u001b[1;33m[\u001b[0m\u001b[0mnp\u001b[0m\u001b[1;33m.\u001b[0m\u001b[0mfloat64\u001b[0m\u001b[1;33m,\u001b[0m \u001b[0mnp\u001b[0m\u001b[1;33m.\u001b[0m\u001b[0mfloat32\u001b[0m\u001b[1;33m]\u001b[0m\u001b[1;33m\u001b[0m\u001b[1;33m\u001b[0m\u001b[0m\n\u001b[0;32m   1137\u001b[0m \u001b[1;33m\u001b[0m\u001b[0m\n\u001b[1;32m-> 1138\u001b[1;33m         X, y = self._validate_data(\n\u001b[0m\u001b[0;32m   1139\u001b[0m             \u001b[0mX\u001b[0m\u001b[1;33m,\u001b[0m\u001b[1;33m\u001b[0m\u001b[1;33m\u001b[0m\u001b[0m\n\u001b[0;32m   1140\u001b[0m             \u001b[0my\u001b[0m\u001b[1;33m,\u001b[0m\u001b[1;33m\u001b[0m\u001b[1;33m\u001b[0m\u001b[0m\n",
      "\u001b[1;32m~\\anaconda3\\lib\\site-packages\\sklearn\\base.py\u001b[0m in \u001b[0;36m_validate_data\u001b[1;34m(self, X, y, reset, validate_separately, **check_params)\u001b[0m\n\u001b[0;32m    594\u001b[0m                 \u001b[0my\u001b[0m \u001b[1;33m=\u001b[0m \u001b[0mcheck_array\u001b[0m\u001b[1;33m(\u001b[0m\u001b[0my\u001b[0m\u001b[1;33m,\u001b[0m \u001b[0minput_name\u001b[0m\u001b[1;33m=\u001b[0m\u001b[1;34m\"y\"\u001b[0m\u001b[1;33m,\u001b[0m \u001b[1;33m**\u001b[0m\u001b[0mcheck_y_params\u001b[0m\u001b[1;33m)\u001b[0m\u001b[1;33m\u001b[0m\u001b[1;33m\u001b[0m\u001b[0m\n\u001b[0;32m    595\u001b[0m             \u001b[1;32melse\u001b[0m\u001b[1;33m:\u001b[0m\u001b[1;33m\u001b[0m\u001b[1;33m\u001b[0m\u001b[0m\n\u001b[1;32m--> 596\u001b[1;33m                 \u001b[0mX\u001b[0m\u001b[1;33m,\u001b[0m \u001b[0my\u001b[0m \u001b[1;33m=\u001b[0m \u001b[0mcheck_X_y\u001b[0m\u001b[1;33m(\u001b[0m\u001b[0mX\u001b[0m\u001b[1;33m,\u001b[0m \u001b[0my\u001b[0m\u001b[1;33m,\u001b[0m \u001b[1;33m**\u001b[0m\u001b[0mcheck_params\u001b[0m\u001b[1;33m)\u001b[0m\u001b[1;33m\u001b[0m\u001b[1;33m\u001b[0m\u001b[0m\n\u001b[0m\u001b[0;32m    597\u001b[0m             \u001b[0mout\u001b[0m \u001b[1;33m=\u001b[0m \u001b[0mX\u001b[0m\u001b[1;33m,\u001b[0m \u001b[0my\u001b[0m\u001b[1;33m\u001b[0m\u001b[1;33m\u001b[0m\u001b[0m\n\u001b[0;32m    598\u001b[0m \u001b[1;33m\u001b[0m\u001b[0m\n",
      "\u001b[1;32m~\\anaconda3\\lib\\site-packages\\sklearn\\utils\\validation.py\u001b[0m in \u001b[0;36mcheck_X_y\u001b[1;34m(X, y, accept_sparse, accept_large_sparse, dtype, order, copy, force_all_finite, ensure_2d, allow_nd, multi_output, ensure_min_samples, ensure_min_features, y_numeric, estimator)\u001b[0m\n\u001b[0;32m   1072\u001b[0m         )\n\u001b[0;32m   1073\u001b[0m \u001b[1;33m\u001b[0m\u001b[0m\n\u001b[1;32m-> 1074\u001b[1;33m     X = check_array(\n\u001b[0m\u001b[0;32m   1075\u001b[0m         \u001b[0mX\u001b[0m\u001b[1;33m,\u001b[0m\u001b[1;33m\u001b[0m\u001b[1;33m\u001b[0m\u001b[0m\n\u001b[0;32m   1076\u001b[0m         \u001b[0maccept_sparse\u001b[0m\u001b[1;33m=\u001b[0m\u001b[0maccept_sparse\u001b[0m\u001b[1;33m,\u001b[0m\u001b[1;33m\u001b[0m\u001b[1;33m\u001b[0m\u001b[0m\n",
      "\u001b[1;32m~\\anaconda3\\lib\\site-packages\\sklearn\\utils\\validation.py\u001b[0m in \u001b[0;36mcheck_array\u001b[1;34m(array, accept_sparse, accept_large_sparse, dtype, order, copy, force_all_finite, ensure_2d, allow_nd, ensure_min_samples, ensure_min_features, estimator, input_name)\u001b[0m\n\u001b[0;32m    877\u001b[0m             \u001b[1;31m# If input is 1D raise error\u001b[0m\u001b[1;33m\u001b[0m\u001b[1;33m\u001b[0m\u001b[0m\n\u001b[0;32m    878\u001b[0m             \u001b[1;32mif\u001b[0m \u001b[0marray\u001b[0m\u001b[1;33m.\u001b[0m\u001b[0mndim\u001b[0m \u001b[1;33m==\u001b[0m \u001b[1;36m1\u001b[0m\u001b[1;33m:\u001b[0m\u001b[1;33m\u001b[0m\u001b[1;33m\u001b[0m\u001b[0m\n\u001b[1;32m--> 879\u001b[1;33m                 raise ValueError(\n\u001b[0m\u001b[0;32m    880\u001b[0m                     \u001b[1;34m\"Expected 2D array, got 1D array instead:\\narray={}.\\n\"\u001b[0m\u001b[1;33m\u001b[0m\u001b[1;33m\u001b[0m\u001b[0m\n\u001b[0;32m    881\u001b[0m                     \u001b[1;34m\"Reshape your data either using array.reshape(-1, 1) if \"\u001b[0m\u001b[1;33m\u001b[0m\u001b[1;33m\u001b[0m\u001b[0m\n",
      "\u001b[1;31mValueError\u001b[0m: Expected 2D array, got 1D array instead:\narray=[23. 26. 24. 49. 26. 38. 26. 31. 62. 23. 29. 24. 25. 54. 44. 51. 32. 32.\n 31. 21. 45. 21. 28. 24. 63. 27. 60. 22. 24. 57. 49. 43. 35. 45. 23. 41.\n 66. 41. 38. 23. 22. 23. 45. 36. 28. 21. 25. 25. 36. 43. 21. 23. 23. 48.\n 33. 45. 26. 24. 34. 24. 47. 29. 27. 53. 27. 41. 51. 25. 31. 45. 26. 33.\n 23. 29. 31. 24. 24. 31. 35. 38. 50. 24. 31. 24. 22. 29. 23. 37. 41. 21.\n 47. 22. 67. 21. 53. 26. 22. 29. 36. 21. 45. 22. 31. 31. 40. 26. 25. 27.\n 66. 55. 22. 36. 29. 22. 24. 50. 22. 36. 41. 45. 47. 27. 45. 22. 49. 45.\n 23. 67. 38. 22. 32. 30. 22. 27. 21. 22. 25. 39. 31. 32. 26. 56. 26. 41.\n 52. 22. 38. 29. 25. 25. 25. 24. 28. 22. 24. 45. 23. 63. 22. 26. 22. 29.\n 22. 23. 25. 36. 26. 70. 39. 27. 25. 25. 25. 29. 26. 27. 21. 33. 30. 38.\n 21. 44. 26. 81. 21. 42. 27. 32. 45. 25. 66. 35. 51. 23. 21. 21. 30. 22.\n 42. 41. 22. 30. 47. 41. 31. 21. 45. 37. 27. 24. 44. 42. 24. 24. 30. 24.\n 65. 22. 42. 22. 41. 62. 26. 22. 60. 31. 37. 32. 40. 43. 37. 27. 37. 43.\n 21. 22. 23. 28. 59. 23. 22. 46. 40. 21. 28. 34. 67. 39. 56. 24. 32. 44.\n 42. 27. 25. 23. 26. 24. 29. 37. 24. 26. 33. 23. 52. 55. 31. 29. 52. 33.\n 22. 25. 22. 50. 28. 28. 52. 28. 54. 32. 37. 30. 23. 27. 35. 22. 58. 21.\n 24. 55. 22. 28. 24. 39. 40. 41. 21. 21. 30. 58. 25. 30. 40. 28. 22. 23.\n 21. 31. 54. 45. 29. 26. 58. 27. 33. 24. 33. 21. 21. 46. 23. 25. 44. 33.\n 41. 39. 29. 26. 53. 21. 22. 33. 38. 31. 33. 33. 31. 30. 25. 25. 64. 27.\n 40. 23. 40. 36. 36. 25. 60. 22. 41. 43. 22. 29. 45. 32. 26. 37. 28. 43.\n 43. 43. 30. 34. 21. 53. 28. 25. 46. 39. 30. 25. 40. 54. 21. 46. 21. 45.\n 21. 42. 27. 33. 52. 23. 58. 42. 52. 48. 24. 27. 43. 27. 50. 22. 37. 37.\n 59. 28. 22. 26. 36. 23. 25. 37. 31. 46. 31. 42. 34.].\nReshape your data either using array.reshape(-1, 1) if your data has a single feature or array.reshape(1, -1) if it contains a single sample."
     ]
    }
   ],
   "source": [
    "from sklearn.linear_model import LogisticRegression\n",
    "\n",
    "lr = LogisticRegression(max_iter=200)\n",
    "lr.fit(x_train, y_train)"
   ]
  },
  {
   "cell_type": "code",
   "execution_count": 48,
   "id": "4d63321e",
   "metadata": {},
   "outputs": [
    {
     "name": "stdout",
     "output_type": "stream",
     "text": [
      "                           p_id  no_times_pregnant  glucose_concentration  \\\n",
      "p_id                   1.000000          -0.034607              -0.001407   \n",
      "no_times_pregnant     -0.034607           1.000000               0.123416   \n",
      "glucose_concentration -0.001407           0.123416               1.000000   \n",
      "blood_pressure         0.027835           0.140526               0.160167   \n",
      "skin_fold_thickness    0.008890          -0.085653               0.043053   \n",
      "serum_insulin          0.011636          -0.091123               0.330860   \n",
      "bmi                   -0.003948          -0.004101               0.222449   \n",
      "diabetes pedigree     -0.052759          -0.005811               0.131274   \n",
      "age                    0.020156           0.534231               0.241590   \n",
      "diabetes              -0.071237           0.209196               0.469336   \n",
      "\n",
      "                       blood_pressure  skin_fold_thickness  serum_insulin  \\\n",
      "p_id                         0.027835             0.008890       0.011636   \n",
      "no_times_pregnant            0.140526            -0.085653      -0.091123   \n",
      "glucose_concentration        0.160167             0.043053       0.330860   \n",
      "blood_pressure               1.000000             0.214275       0.088827   \n",
      "skin_fold_thickness          0.214275             1.000000       0.439886   \n",
      "serum_insulin                0.088827             0.439886       1.000000   \n",
      "bmi                          0.296000             0.413288       0.200914   \n",
      "diabetes pedigree            0.042320             0.187470       0.176183   \n",
      "age                          0.236387            -0.144741      -0.052863   \n",
      "diabetes                     0.072003             0.052695       0.116562   \n",
      "\n",
      "                            bmi  diabetes pedigree       age  diabetes  \n",
      "p_id                  -0.003948          -0.052759  0.020156 -0.071237  \n",
      "no_times_pregnant     -0.004101          -0.005811  0.534231  0.209196  \n",
      "glucose_concentration  0.222449           0.131274  0.241590  0.469336  \n",
      "blood_pressure         0.296000           0.042320  0.236387  0.072003  \n",
      "skin_fold_thickness    0.413288           0.187470 -0.144741  0.052695  \n",
      "serum_insulin          0.200914           0.176183 -0.052863  0.116562  \n",
      "bmi                    1.000000           0.116301  0.025209  0.275263  \n",
      "diabetes pedigree      0.116301           1.000000  0.053637  0.173301  \n",
      "age                    0.025209           0.053637  1.000000  0.221736  \n",
      "diabetes               0.275263           0.173301  0.221736  1.000000  \n"
     ]
    }
   ],
   "source": [
    "corr = diabetes_data.corr()\n",
    "print(corr)"
   ]
  },
  {
   "cell_type": "code",
   "execution_count": 49,
   "id": "93997039",
   "metadata": {},
   "outputs": [
    {
     "data": {
      "text/plain": [
       "<AxesSubplot:>"
      ]
     },
     "execution_count": 49,
     "metadata": {},
     "output_type": "execute_result"
    },
    {
     "data": {
      "image/png": "[encoded data removed]",
      "text/plain": [
       "<Figure size 432x288 with 2 Axes>"
      ]
     },
     "metadata": {
      "needs_background": "light"
     },
     "output_type": "display_data"
    }
   ],
   "source": [
    "sns.heatmap(corr, \n",
    "         xticklabels=corr.columns, \n",
    "         yticklabels=corr.columns)"
   ]
  },
  {
   "cell_type": "code",
   "execution_count": null,
   "id": "1b8529f7",
   "metadata": {},
   "outputs": [],
   "source": []
  }
 ],
 "metadata": {
  "kernelspec": {
   "display_name": "Python 3 (ipykernel)",
   "language": "python",
   "name": "python3"
  },
  "language_info": {
   "codemirror_mode": {
    "name": "ipython",
    "version": 3
   },
   "file_extension": ".py",
   "mimetype": "text/x-python",
   "name": "python",
   "nbconvert_exporter": "python",
   "pygments_lexer": "ipython3",
   "version": "3.9.7"
  }
 },
 "nbformat": 4,
 "nbformat_minor": 5
}
