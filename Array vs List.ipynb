{
 "cells": [
  {
   "cell_type": "code",
   "execution_count": 10,
   "id": "1ce242f0",
   "metadata": {},
   "outputs": [],
   "source": [
    "#importing necessary libraries\n",
    "import numpy as np\n",
    "import time\n",
    "import sys\n"
   ]
  },
  {
   "cell_type": "code",
   "execution_count": 11,
   "id": "15675ae1",
   "metadata": {},
   "outputs": [
    {
     "name": "stdout",
     "output_type": "stream",
     "text": [
      "Size of array:  4000\n",
      "Size of list:  28000\n"
     ]
    }
   ],
   "source": [
    "#initialising the array and list\n",
    "array = np.arange(1000)\n",
    "print(\"Size of array: \", array.itemsize*1000)\n",
    "lst = range(0,1000)\n",
    "print(\"Size of list: \", sys.getsizeof(1)*len(lst))"
   ]
  },
  {
   "cell_type": "code",
   "execution_count": 3,
   "id": "835f94fc",
   "metadata": {},
   "outputs": [],
   "source": [
    "#Defining the libraries and calculating the time for both array, list and comparing the\n",
    "import math\n",
    "vec_size = 1000000\n",
    "\n",
    "def python_version():\n",
    "    t1 = time.time()\n",
    "    X = range(vec_size)\n",
    "    Y = range(vec_size)\n",
    "    Z = [X[i] * Y[i] for i in range(len(X))]\n",
    "    return time.time()-t1\n",
    "\n",
    "def numpy_version():\n",
    "    t1 = time.time()\n",
    "    X = np.arange(vec_size)\n",
    "    Y = np.arange(vec_size)\n",
    "    Z = X*Y\n",
    "    return time.time()-t1"
   ]
  },
  {
   "cell_type": "code",
   "execution_count": 9,
   "id": "48e6b073",
   "metadata": {},
   "outputs": [
    {
     "name": "stdout",
     "output_type": "stream",
     "text": [
      "0.32444190979003906 \n",
      " 0.003997087478637695\n",
      "it is faster by: 81times\n"
     ]
    }
   ],
   "source": [
    "t1 = python_version()\n",
    "t2 = numpy_version()\n",
    "print(t1, '\\n', t2)\n",
    "print(\"it is faster by: \" + str(math.floor(t1/t2)) + \"times\")"
   ]
  },
  {
   "cell_type": "code",
   "execution_count": null,
   "id": "98710267",
   "metadata": {},
   "outputs": [],
   "source": []
  },
  {
   "cell_type": "code",
   "execution_count": null,
   "id": "2941d99a",
   "metadata": {},
   "outputs": [],
   "source": []
  }
 ],
 "metadata": {
  "kernelspec": {
   "display_name": "Python 3 (ipykernel)",
   "language": "python",
   "name": "python3"
  },
  "language_info": {
   "codemirror_mode": {
    "name": "ipython",
    "version": 3
   },
   "file_extension": ".py",
   "mimetype": "text/x-python",
   "name": "python",
   "nbconvert_exporter": "python",
   "pygments_lexer": "ipython3",
   "version": "3.9.7"
  }
 },
 "nbformat": 4,
 "nbformat_minor": 5
}
